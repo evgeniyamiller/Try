{
 "cells": [
  {
   "cell_type": "code",
   "execution_count": 135,
   "metadata": {
    "collapsed": false
   },
   "outputs": [],
   "source": [
    "import requests, json, re\n",
    "import matplotlib.pyplot as plt\n",
    "from datetime import date"
   ]
  },
  {
   "cell_type": "code",
   "execution_count": 136,
   "metadata": {
    "collapsed": true
   },
   "outputs": [],
   "source": [
    "def api(method, parameters):\n",
    "    req = 'https://api.vk.com/method/' + method + '?'\n",
    "    for k in parameters:\n",
    "        req += k + '=' + parameters[k] + '&'\n",
    "    return json.loads(requests.get(req[:-1]).text)"
   ]
  },
  {
   "cell_type": "code",
   "execution_count": 137,
   "metadata": {
    "collapsed": true
   },
   "outputs": [],
   "source": [
    "def writefile(name, text):\n",
    "    f = open(name, 'w', encoding='utf-8')\n",
    "    f.write(text)\n",
    "    f.close()"
   ]
  },
  {
   "cell_type": "code",
   "execution_count": 158,
   "metadata": {
    "collapsed": false
   },
   "outputs": [],
   "source": [
    "def get_comments(post_id, num_com, lencoms, cities, ages):\n",
    "    allcoms = ''\n",
    "    averlencoms = []\n",
    "    comments = api('wall.getComments', {'owner_id':'-91933860', 'post_id': str(post_id), 'count':'100'})\n",
    "    if num_com > 100:\n",
    "        comments['response'] += api('wall.getComments', {'owner_id':'-91933860', 'post_id': post_id, 'count':'100', 'offset':'100'})['response']\n",
    "    for com in comments['response']:\n",
    "        if type(com) == dict:\n",
    "            text = com['text'].replace('<br>', '\\n')\n",
    "            allcoms += '* ' + cleaning(text) + '\\n'\n",
    "            if com['from_id'] > 0:\n",
    "                cities, ages = get_info(com['from_id'], cities, ages)\n",
    "                lencoms.append(len(text.split()))\n",
    "                averlencoms.append(len(text.split()))\n",
    "    #writefile(str(post_id) + ' comments.txt', allcoms)\n",
    "    if len(averlencoms) != 0:\n",
    "        average = sum(averlencoms)/len(averlencoms)\n",
    "    else:\n",
    "        average = 0\n",
    "    return lencoms, cities, ages, average     "
   ]
  },
  {
   "cell_type": "code",
   "execution_count": 139,
   "metadata": {
    "collapsed": true
   },
   "outputs": [],
   "source": [
    "def get_age(bdate):\n",
    "    bdate = bdate.split()\n",
    "    if len(bdate) < 3:\n",
    "        return 'unknown'\n",
    "    today = date.today()\n",
    "    age = today.year - bdate[2]\n",
    "    if today.month < bdate[1]:\n",
    "        age -= 1\n",
    "    elif today.month == bdate[1] and today.day < bdate[0]:\n",
    "        age -= 1\n",
    "    return age"
   ]
  },
  {
   "cell_type": "code",
   "execution_count": 140,
   "metadata": {
    "collapsed": true
   },
   "outputs": [],
   "source": [
    "def get_info(author, cities, ages):\n",
    "    info = api('users.get', {'user_ids':str(author), 'fields':'city,bdate'})\n",
    "    if 'city' in info['response'][0]:    \n",
    "        cities.append(info['response'][0]['city'])\n",
    "    else:\n",
    "        cities += '0'\n",
    "    if 'bdate' in info['response'][0]:    \n",
    "        ages += get_age(info['response'][0]['bdate'])\n",
    "    else:\n",
    "        ages += 'unknown'\n",
    "    return cities, ages"
   ]
  },
  {
   "cell_type": "code",
   "execution_count": 141,
   "metadata": {
    "collapsed": true
   },
   "outputs": [],
   "source": [
    "def cleaning(text):\n",
    "    import sys\n",
    "    non_bmp_map = dict.fromkeys(range(0x10000, sys.maxunicode + 1), 0xfffd)\n",
    "    text = re.sub('\\[id[0-9]*\\|', '', text)\n",
    "    text = re.sub('\\]', '', text)\n",
    "    return text.translate(non_bmp_map)"
   ]
  },
  {
   "cell_type": "code",
   "execution_count": 162,
   "metadata": {
    "collapsed": false
   },
   "outputs": [],
   "source": [
    "def newplot(x, y, x_label, y_label, name):\n",
    "    plt.plot(x, y)\n",
    "    plt.xlabel(x_label)\n",
    "    plt.ylabel(y_label)\n",
    "    plt.savefig(name +'.png', format='png', dpi=100)\n",
    "    plt.clf()"
   ]
  },
  {
   "cell_type": "code",
   "execution_count": 143,
   "metadata": {
    "collapsed": false
   },
   "outputs": [],
   "source": [
    "def age_lencoms(ages, lencoms):\n",
    "    dict_ages = {}\n",
    "    for i in range(len(ages)):\n",
    "        if ages[i] != 'unknown':\n",
    "            if ages[i] not in dict_ages:\n",
    "                dict_ages[ages[i]] = [lencoms[i]]\n",
    "            else:\n",
    "                dict_ages[ages[i]].append(lencoms[i])\n",
    "    return dict_ages\n",
    "        "
   ]
  },
  {
   "cell_type": "code",
   "execution_count": 144,
   "metadata": {
    "collapsed": true
   },
   "outputs": [],
   "source": [
    "def city_lencoms(cities, lencoms):\n",
    "    dict_cities = {}\n",
    "    for i in range(len(cities)):\n",
    "        if cities[i] != '0' and cities[i] != 0:\n",
    "            if cities[i] not in dict_cities:\n",
    "                dict_cities[cities[i]] = [lencoms[i]]\n",
    "            else:\n",
    "                dict_cities[cities[i]].append(lencoms[i])\n",
    "    return dict_cities"
   ]
  },
  {
   "cell_type": "code",
   "execution_count": 160,
   "metadata": {
    "collapsed": false
   },
   "outputs": [],
   "source": [
    "def main():\n",
    "    posts = api('wall.get', {'owner_id':'-91933860', 'count':'100'})\n",
    "    posts['response'] += api('wall.get', {'owner_id':'-91933860', 'count':'100', 'offset':'100'})['response']\n",
    "    cities, lencoms, lenposts, ages, averlencoms = [], [], [], [], []\n",
    "    for post in posts['response']:\n",
    "        if type(post) == dict:\n",
    "            post_id = post['id']\n",
    "            text = post['text'].replace('<br>', '\\n')\n",
    "            #writefile(str(post_id) + '.txt', text)\n",
    "            num_com = post['comments']['count']\n",
    "            lencoms, cities, ages, average = get_comments(post_id, num_com, lencoms, cities, ages)\n",
    "            lenposts.append(len(text.split()))\n",
    "            averlencoms.append(average)\n",
    "    newplot(lenposts, averlencoms, 'Длина поста', 'Средняя длина комментария', 'lenlen')\n",
    "    dict_ages = age_lencoms(ages,lencoms)\n",
    "    dict_cities = city_lencoms(cityes,lencoms)\n",
    "    \n",
    "    newplot(dict_ages.keys(), [dict_ages[key](sum)/len(dict_ages[key]) for key in dict_ages], 'возраст', 'средняя длина комментария', 'age')\n",
    "    newplot(dict_citiees.keys(), [dict_cities[key](sum)/len(dict_cities[key]) for key in dict_cities], 'город', 'средняя длина комментария', 'city')"
   ]
  },
  {
   "cell_type": "code",
   "execution_count": null,
   "metadata": {
    "collapsed": false
   },
   "outputs": [],
   "source": [
    "if __name__ == '__main__':\n",
    "    main()"
   ]
  },
  {
   "cell_type": "code",
   "execution_count": null,
   "metadata": {
    "collapsed": true
   },
   "outputs": [],
   "source": []
  }
 ],
 "metadata": {
  "kernelspec": {
   "display_name": "Python [default]",
   "language": "python",
   "name": "python3"
  },
  "language_info": {
   "codemirror_mode": {
    "name": "ipython",
    "version": 3
   },
   "file_extension": ".py",
   "mimetype": "text/x-python",
   "name": "python",
   "nbconvert_exporter": "python",
   "pygments_lexer": "ipython3",
   "version": "3.5.2"
  }
 },
 "nbformat": 4,
 "nbformat_minor": 1
}
